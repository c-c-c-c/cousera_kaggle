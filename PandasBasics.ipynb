{
  "nbformat": 4,
  "nbformat_minor": 0,
  "metadata": {
    "hw_version": "1.0.0",
    "kernelspec": {
      "display_name": "Python 3",
      "language": "python",
      "name": "python3"
    },
    "language_info": {
      "codemirror_mode": {
        "name": "ipython",
        "version": 3
      },
      "file_extension": ".py",
      "mimetype": "text/x-python",
      "name": "python",
      "nbconvert_exporter": "python",
      "pygments_lexer": "ipython3",
      "version": "3.6.2"
    },
    "colab": {
      "name": "PandasBasics.ipynb",
      "provenance": [],
      "collapsed_sections": [],
      "include_colab_link": true
    }
  },
  "cells": [
    {
      "cell_type": "markdown",
      "metadata": {
        "id": "view-in-github",
        "colab_type": "text"
      },
      "source": [
        "<a href=\"https://colab.research.google.com/github/c-c-c-c/cousera_kaggle/blob/master/PandasBasics.ipynb\" target=\"_parent\"><img src=\"https://colab.research.google.com/assets/colab-badge.svg\" alt=\"Open In Colab\"/></a>"
      ]
    },
    {
      "cell_type": "markdown",
      "metadata": {
        "id": "66pdcV7fhxVc",
        "colab_type": "text"
      },
      "source": [
        "Version 1.0.2"
      ]
    },
    {
      "cell_type": "markdown",
      "metadata": {
        "id": "caDpJo-thxVd",
        "colab_type": "text"
      },
      "source": [
        "# Pandas basics "
      ]
    },
    {
      "cell_type": "markdown",
      "metadata": {
        "id": "ER8HB1yehxVe",
        "colab_type": "text"
      },
      "source": [
        "Hi! In this programming assignment you need to refresh your `pandas` knowledge. You will need to do several [`groupby`](https://pandas.pydata.org/pandas-docs/stable/generated/pandas.DataFrame.groupby.html)s and [`join`]()`s to solve the task. "
      ]
    },
    {
      "cell_type": "code",
      "metadata": {
        "id": "_6mupBXChxVe",
        "colab_type": "code",
        "outputId": "1c33406d-29ce-482e-e2a8-979c9c1cf813",
        "colab": {
          "base_uri": "https://localhost:8080/",
          "height": 347
        }
      },
      "source": [
        "import pandas as pd\n",
        "import numpy as np\n",
        "import os\n",
        "import matplotlib.pyplot as plt\n",
        "%matplotlib inline \n",
        "\n",
        "from grader import Grader"
      ],
      "execution_count": 3,
      "outputs": [
        {
          "output_type": "error",
          "ename": "ModuleNotFoundError",
          "evalue": "ignored",
          "traceback": [
            "\u001b[0;31m---------------------------------------------------------------------------\u001b[0m",
            "\u001b[0;31mModuleNotFoundError\u001b[0m                       Traceback (most recent call last)",
            "\u001b[0;32m<ipython-input-3-e6dfbf0291a9>\u001b[0m in \u001b[0;36m<module>\u001b[0;34m()\u001b[0m\n\u001b[1;32m      5\u001b[0m \u001b[0mget_ipython\u001b[0m\u001b[0;34m(\u001b[0m\u001b[0;34m)\u001b[0m\u001b[0;34m.\u001b[0m\u001b[0mmagic\u001b[0m\u001b[0;34m(\u001b[0m\u001b[0;34m'matplotlib inline'\u001b[0m\u001b[0;34m)\u001b[0m\u001b[0;34m\u001b[0m\u001b[0;34m\u001b[0m\u001b[0m\n\u001b[1;32m      6\u001b[0m \u001b[0;34m\u001b[0m\u001b[0m\n\u001b[0;32m----> 7\u001b[0;31m \u001b[0;32mfrom\u001b[0m \u001b[0mgrader\u001b[0m \u001b[0;32mimport\u001b[0m \u001b[0mGrader\u001b[0m\u001b[0;34m\u001b[0m\u001b[0;34m\u001b[0m\u001b[0m\n\u001b[0m",
            "\u001b[0;31mModuleNotFoundError\u001b[0m: No module named 'grader'",
            "",
            "\u001b[0;31m---------------------------------------------------------------------------\u001b[0;32m\nNOTE: If your import is failing due to a missing package, you can\nmanually install dependencies using either !pip or !apt.\n\nTo view examples of installing some common dependencies, click the\n\"Open Examples\" button below.\n\u001b[0;31m---------------------------------------------------------------------------\u001b[0m\n"
          ]
        }
      ]
    },
    {
      "cell_type": "code",
      "metadata": {
        "id": "BpQMIkJUh7qS",
        "colab_type": "code",
        "outputId": "e196c019-de94-4c76-ee39-6cbef5f3c502",
        "colab": {
          "base_uri": "https://localhost:8080/",
          "height": 34
        }
      },
      "source": [
        "from google.colab import drive\n",
        "drive.mount('/content/drive')"
      ],
      "execution_count": 4,
      "outputs": [
        {
          "output_type": "stream",
          "text": [
            "Drive already mounted at /content/drive; to attempt to forcibly remount, call drive.mount(\"/content/drive\", force_remount=True).\n"
          ],
          "name": "stdout"
        }
      ]
    },
    {
      "cell_type": "code",
      "metadata": {
        "id": "BxuMWSA1hxVi",
        "colab_type": "code",
        "colab": {}
      },
      "source": [
        "# DATA_FOLDER = '../data/final_project_data/'\n",
        "DATA_FOLDER = '/content/drive/My Drive/Colab Notebooks/cousera/how_to_win_kaggle/data/competitive-data-science-predict-future-sales/'\n",
        "\n",
        "\n",
        "transactions    = pd.read_csv(os.path.join(DATA_FOLDER, 'sales_train.csv'))\n",
        "items           = pd.read_csv(os.path.join(DATA_FOLDER, 'items.csv'))\n",
        "item_categories = pd.read_csv(os.path.join(DATA_FOLDER, 'item_categories.csv'))\n",
        "shops           = pd.read_csv(os.path.join(DATA_FOLDER, 'shops.csv'))"
      ],
      "execution_count": 0,
      "outputs": []
    },
    {
      "cell_type": "markdown",
      "metadata": {
        "id": "0QRAXAD5hxVl",
        "colab_type": "text"
      },
      "source": [
        "The dataset we are going to use is taken from the competition, that serves as the final project for this course. You can find complete data description at the [competition web page](https://www.kaggle.com/c/competitive-data-science-final-project/data). To join the competition use [this link](https://www.kaggle.com/t/1ea93815dca248e99221df42ebde3540)."
      ]
    },
    {
      "cell_type": "markdown",
      "metadata": {
        "id": "nIkx__-ehxVl",
        "colab_type": "text"
      },
      "source": [
        "## Grading"
      ]
    },
    {
      "cell_type": "markdown",
      "metadata": {
        "id": "vcxS8SPhhxVm",
        "colab_type": "text"
      },
      "source": [
        "We will create a grader instace below and use it to collect your answers. When function `submit_tag` is called, grader will store your answer *locally*. The answers will *not* be submited to the platform immediately so you can call `submit_tag` function as many times as you need. \n",
        "\n",
        "When you are ready to push your answers to the platform you should fill your credentials and run `submit` function in the <a href=\"#Authorization-&-Submission\">last paragraph</a>  of the assignment."
      ]
    },
    {
      "cell_type": "code",
      "metadata": {
        "id": "DoCT0XHEhxVn",
        "colab_type": "code",
        "colab": {}
      },
      "source": [
        "grader = Grader()"
      ],
      "execution_count": 0,
      "outputs": []
    },
    {
      "cell_type": "markdown",
      "metadata": {
        "id": "6NSyloMXhxVp",
        "colab_type": "text"
      },
      "source": [
        "# Task\n"
      ]
    },
    {
      "cell_type": "markdown",
      "metadata": {
        "id": "rCHyCJCXhxVq",
        "colab_type": "text"
      },
      "source": [
        "Let's start with a simple task. \n",
        "\n",
        "\n",
        "<ol start=\"0\">\n",
        "  <li><b>Print the shape of the loaded dataframes and use [`df.head`](https://pandas.pydata.org/pandas-docs/stable/generated/pandas.DataFrame.head.html) function to print several rows. Examine the features you are given.</b></li>\n",
        "</ol>"
      ]
    },
    {
      "cell_type": "code",
      "metadata": {
        "id": "GfpARWIShxVq",
        "colab_type": "code",
        "outputId": "b3bac2c9-e4ec-4046-92a2-328190726d3f",
        "colab": {
          "base_uri": "https://localhost:8080/",
          "height": 70
        }
      },
      "source": [
        "transactions.columns"
      ],
      "execution_count": 6,
      "outputs": [
        {
          "output_type": "execute_result",
          "data": {
            "text/plain": [
              "Index(['date', 'date_block_num', 'shop_id', 'item_id', 'item_price',\n",
              "       'item_cnt_day'],\n",
              "      dtype='object')"
            ]
          },
          "metadata": {
            "tags": []
          },
          "execution_count": 6
        }
      ]
    },
    {
      "cell_type": "code",
      "metadata": {
        "id": "AYRadLCUhxVu",
        "colab_type": "code",
        "colab": {}
      },
      "source": [
        "transactions['date'] = pd.to_datetime(transactions['date'])\n"
      ],
      "execution_count": 0,
      "outputs": []
    },
    {
      "cell_type": "code",
      "metadata": {
        "id": "D6IwcL9o3RAR",
        "colab_type": "code",
        "colab": {}
      },
      "source": [
        "transactions[\"date_f\"] = transactions.date.dt.strftime('%Y%m')\n",
        "# str(transactions.date.dt.year) + str(transactions.date.dt.month)"
      ],
      "execution_count": 0,
      "outputs": []
    },
    {
      "cell_type": "code",
      "metadata": {
        "id": "MN-c-CZAoLxa",
        "colab_type": "code",
        "colab": {
          "base_uri": "https://localhost:8080/",
          "height": 228
        },
        "outputId": "f7983699-78b0-4f9f-cfe4-de8451198dee"
      },
      "source": [
        "transactions[\"date_f\"]"
      ],
      "execution_count": 9,
      "outputs": [
        {
          "output_type": "execute_result",
          "data": {
            "text/plain": [
              "0          201302\n",
              "1          201303\n",
              "2          201305\n",
              "3          201306\n",
              "4          201301\n",
              "            ...  \n",
              "2935844    201510\n",
              "2935845    201509\n",
              "2935846    201510\n",
              "2935847    201510\n",
              "2935848    201503\n",
              "Name: date_f, Length: 2935849, dtype: object"
            ]
          },
          "metadata": {
            "tags": []
          },
          "execution_count": 9
        }
      ]
    },
    {
      "cell_type": "code",
      "metadata": {
        "id": "qtuOnq-ioMNL",
        "colab_type": "code",
        "colab": {}
      },
      "source": [
        ""
      ],
      "execution_count": 0,
      "outputs": []
    },
    {
      "cell_type": "markdown",
      "metadata": {
        "id": "WT9-Vb7chxVz",
        "colab_type": "text"
      },
      "source": [
        "Now use your `pandas` skills to get answers for the following questions. \n",
        "\n",
        "The first question is:\n",
        "\n",
        "1. ** What was the maximum total revenue among all the shops in September, 2014?** \n",
        "\n",
        "\n",
        "* Hereinafter *revenue* refers to total sales minus value of goods returned.\n",
        "\n",
        "*Hints:*\n",
        "\n",
        "* Sometimes items are returned, find such examples in the dataset. \n",
        "* It is handy to split `date` field into [`day`, `month`, `year`] components and use `df.year == 14` and `df.month == 9` in order to select target subset of dates.\n",
        "* You may work with `date` feature as with srings, or you may first convert it to `pd.datetime` type with `pd.to_datetime` function, but do not forget to set correct `format` argument."
      ]
    },
    {
      "cell_type": "code",
      "metadata": {
        "id": "eF2_G3ZKhxV0",
        "colab_type": "code",
        "colab": {}
      },
      "source": [
        "transactions.head\n",
        "\n",
        "transactions[\"sales\"] = transactions[\"item_price\"] * transactions[\"item_cnt_day\"]"
      ],
      "execution_count": 0,
      "outputs": []
    },
    {
      "cell_type": "code",
      "metadata": {
        "id": "QdQq0OMbtD8h",
        "colab_type": "code",
        "colab": {
          "base_uri": "https://localhost:8080/",
          "height": 34
        },
        "outputId": "5aca38ec-b41b-4bb7-9acb-1b7f5e46beea"
      },
      "source": [
        "transactions[ transactions[\"date_f\"] == \"201409\"].groupby('shop_id')[\"sales\"].sum().sort_values(ascending=False).iloc[1]"
      ],
      "execution_count": 25,
      "outputs": [
        {
          "output_type": "execute_result",
          "data": {
            "text/plain": [
              "6784135.0"
            ]
          },
          "metadata": {
            "tags": []
          },
          "execution_count": 25
        }
      ]
    },
    {
      "cell_type": "code",
      "metadata": {
        "id": "p2lozcMxhxV2",
        "colab_type": "code",
        "colab": {
          "base_uri": "https://localhost:8080/",
          "height": 206
        },
        "outputId": "5813f666-0efe-4a98-f585-758b4d52fc21"
      },
      "source": [
        "# YOUR CODE GOES HERE\n",
        "\n",
        "max_revenue = transactions[ transactions[\"date_f\"] == \"201409\"].groupby('shop_id')[\"sales\"].sum().sort_values(ascending=False).iloc[1]\n",
        "grader.submit_tag('max_revenue', max_revenue)"
      ],
      "execution_count": 26,
      "outputs": [
        {
          "output_type": "error",
          "ename": "NameError",
          "evalue": "ignored",
          "traceback": [
            "\u001b[0;31m---------------------------------------------------------------------------\u001b[0m",
            "\u001b[0;31mNameError\u001b[0m                                 Traceback (most recent call last)",
            "\u001b[0;32m<ipython-input-26-a4ee3bf6fdda>\u001b[0m in \u001b[0;36m<module>\u001b[0;34m()\u001b[0m\n\u001b[1;32m      1\u001b[0m \u001b[0;34m\u001b[0m\u001b[0m\n\u001b[1;32m      2\u001b[0m \u001b[0mmax_revenue\u001b[0m \u001b[0;34m=\u001b[0m \u001b[0mtransactions\u001b[0m\u001b[0;34m[\u001b[0m \u001b[0mtransactions\u001b[0m\u001b[0;34m[\u001b[0m\u001b[0;34m\"date_f\"\u001b[0m\u001b[0;34m]\u001b[0m \u001b[0;34m==\u001b[0m \u001b[0;34m\"201409\"\u001b[0m\u001b[0;34m]\u001b[0m\u001b[0;34m.\u001b[0m\u001b[0mgroupby\u001b[0m\u001b[0;34m(\u001b[0m\u001b[0;34m'shop_id'\u001b[0m\u001b[0;34m)\u001b[0m\u001b[0;34m[\u001b[0m\u001b[0;34m\"sales\"\u001b[0m\u001b[0;34m]\u001b[0m\u001b[0;34m.\u001b[0m\u001b[0msum\u001b[0m\u001b[0;34m(\u001b[0m\u001b[0;34m)\u001b[0m\u001b[0;34m.\u001b[0m\u001b[0msort_values\u001b[0m\u001b[0;34m(\u001b[0m\u001b[0mascending\u001b[0m\u001b[0;34m=\u001b[0m\u001b[0;32mFalse\u001b[0m\u001b[0;34m)\u001b[0m\u001b[0;34m.\u001b[0m\u001b[0miloc\u001b[0m\u001b[0;34m[\u001b[0m\u001b[0;36m1\u001b[0m\u001b[0;34m]\u001b[0m\u001b[0;34m\u001b[0m\u001b[0;34m\u001b[0m\u001b[0m\n\u001b[0;32m----> 3\u001b[0;31m \u001b[0mgrader\u001b[0m\u001b[0;34m.\u001b[0m\u001b[0msubmit_tag\u001b[0m\u001b[0;34m(\u001b[0m\u001b[0;34m'max_revenue'\u001b[0m\u001b[0;34m,\u001b[0m \u001b[0mmax_revenue\u001b[0m\u001b[0;34m)\u001b[0m\u001b[0;34m\u001b[0m\u001b[0;34m\u001b[0m\u001b[0m\n\u001b[0m",
            "\u001b[0;31mNameError\u001b[0m: name 'grader' is not defined"
          ]
        }
      ]
    },
    {
      "cell_type": "markdown",
      "metadata": {
        "id": "CN4w5mYahxV5",
        "colab_type": "text"
      },
      "source": [
        "Great! Let's move on and answer another question:\n",
        "\n",
        "<ol start=\"2\">\n",
        "  <li><b>What item category generated the highest revenue in summer 2014?</b></li>\n",
        "  \n",
        "</ol>\n",
        "\n",
        "* Submit `id` of the category found.\n",
        "    \n",
        "* Here we call \"summer\" the period from June to August.\n",
        "\n",
        "*Hints:*\n",
        "\n",
        "* Note, that for an object `x` of type `pd.Series`: `x.argmax()` returns **index** of the maximum element. `pd.Series` can have non-trivial index (not `[1, 2, 3, ... ]`)."
      ]
    },
    {
      "cell_type": "code",
      "metadata": {
        "id": "iJE-KF2kwAeQ",
        "colab_type": "code",
        "colab": {
          "base_uri": "https://localhost:8080/",
          "height": 402
        },
        "outputId": "8c64d1d1-3d60-4cd4-9d9c-60f47ac1c454"
      },
      "source": [
        "transactions"
      ],
      "execution_count": 27,
      "outputs": [
        {
          "output_type": "execute_result",
          "data": {
            "text/html": [
              "<div>\n",
              "<style scoped>\n",
              "    .dataframe tbody tr th:only-of-type {\n",
              "        vertical-align: middle;\n",
              "    }\n",
              "\n",
              "    .dataframe tbody tr th {\n",
              "        vertical-align: top;\n",
              "    }\n",
              "\n",
              "    .dataframe thead th {\n",
              "        text-align: right;\n",
              "    }\n",
              "</style>\n",
              "<table border=\"1\" class=\"dataframe\">\n",
              "  <thead>\n",
              "    <tr style=\"text-align: right;\">\n",
              "      <th></th>\n",
              "      <th>date</th>\n",
              "      <th>date_block_num</th>\n",
              "      <th>shop_id</th>\n",
              "      <th>item_id</th>\n",
              "      <th>item_price</th>\n",
              "      <th>item_cnt_day</th>\n",
              "      <th>date_f</th>\n",
              "      <th>sales</th>\n",
              "    </tr>\n",
              "  </thead>\n",
              "  <tbody>\n",
              "    <tr>\n",
              "      <th>0</th>\n",
              "      <td>2013-02-01</td>\n",
              "      <td>0</td>\n",
              "      <td>59</td>\n",
              "      <td>22154</td>\n",
              "      <td>999.00</td>\n",
              "      <td>1.0</td>\n",
              "      <td>201302</td>\n",
              "      <td>999.00</td>\n",
              "    </tr>\n",
              "    <tr>\n",
              "      <th>1</th>\n",
              "      <td>2013-03-01</td>\n",
              "      <td>0</td>\n",
              "      <td>25</td>\n",
              "      <td>2552</td>\n",
              "      <td>899.00</td>\n",
              "      <td>1.0</td>\n",
              "      <td>201303</td>\n",
              "      <td>899.00</td>\n",
              "    </tr>\n",
              "    <tr>\n",
              "      <th>2</th>\n",
              "      <td>2013-05-01</td>\n",
              "      <td>0</td>\n",
              "      <td>25</td>\n",
              "      <td>2552</td>\n",
              "      <td>899.00</td>\n",
              "      <td>-1.0</td>\n",
              "      <td>201305</td>\n",
              "      <td>-899.00</td>\n",
              "    </tr>\n",
              "    <tr>\n",
              "      <th>3</th>\n",
              "      <td>2013-06-01</td>\n",
              "      <td>0</td>\n",
              "      <td>25</td>\n",
              "      <td>2554</td>\n",
              "      <td>1709.05</td>\n",
              "      <td>1.0</td>\n",
              "      <td>201306</td>\n",
              "      <td>1709.05</td>\n",
              "    </tr>\n",
              "    <tr>\n",
              "      <th>4</th>\n",
              "      <td>2013-01-15</td>\n",
              "      <td>0</td>\n",
              "      <td>25</td>\n",
              "      <td>2555</td>\n",
              "      <td>1099.00</td>\n",
              "      <td>1.0</td>\n",
              "      <td>201301</td>\n",
              "      <td>1099.00</td>\n",
              "    </tr>\n",
              "    <tr>\n",
              "      <th>...</th>\n",
              "      <td>...</td>\n",
              "      <td>...</td>\n",
              "      <td>...</td>\n",
              "      <td>...</td>\n",
              "      <td>...</td>\n",
              "      <td>...</td>\n",
              "      <td>...</td>\n",
              "      <td>...</td>\n",
              "    </tr>\n",
              "    <tr>\n",
              "      <th>2935844</th>\n",
              "      <td>2015-10-10</td>\n",
              "      <td>33</td>\n",
              "      <td>25</td>\n",
              "      <td>7409</td>\n",
              "      <td>299.00</td>\n",
              "      <td>1.0</td>\n",
              "      <td>201510</td>\n",
              "      <td>299.00</td>\n",
              "    </tr>\n",
              "    <tr>\n",
              "      <th>2935845</th>\n",
              "      <td>2015-09-10</td>\n",
              "      <td>33</td>\n",
              "      <td>25</td>\n",
              "      <td>7460</td>\n",
              "      <td>299.00</td>\n",
              "      <td>1.0</td>\n",
              "      <td>201509</td>\n",
              "      <td>299.00</td>\n",
              "    </tr>\n",
              "    <tr>\n",
              "      <th>2935846</th>\n",
              "      <td>2015-10-14</td>\n",
              "      <td>33</td>\n",
              "      <td>25</td>\n",
              "      <td>7459</td>\n",
              "      <td>349.00</td>\n",
              "      <td>1.0</td>\n",
              "      <td>201510</td>\n",
              "      <td>349.00</td>\n",
              "    </tr>\n",
              "    <tr>\n",
              "      <th>2935847</th>\n",
              "      <td>2015-10-22</td>\n",
              "      <td>33</td>\n",
              "      <td>25</td>\n",
              "      <td>7440</td>\n",
              "      <td>299.00</td>\n",
              "      <td>1.0</td>\n",
              "      <td>201510</td>\n",
              "      <td>299.00</td>\n",
              "    </tr>\n",
              "    <tr>\n",
              "      <th>2935848</th>\n",
              "      <td>2015-03-10</td>\n",
              "      <td>33</td>\n",
              "      <td>25</td>\n",
              "      <td>7460</td>\n",
              "      <td>299.00</td>\n",
              "      <td>1.0</td>\n",
              "      <td>201503</td>\n",
              "      <td>299.00</td>\n",
              "    </tr>\n",
              "  </tbody>\n",
              "</table>\n",
              "<p>2935849 rows × 8 columns</p>\n",
              "</div>"
            ],
            "text/plain": [
              "              date  date_block_num  shop_id  ...  item_cnt_day  date_f    sales\n",
              "0       2013-02-01               0       59  ...           1.0  201302   999.00\n",
              "1       2013-03-01               0       25  ...           1.0  201303   899.00\n",
              "2       2013-05-01               0       25  ...          -1.0  201305  -899.00\n",
              "3       2013-06-01               0       25  ...           1.0  201306  1709.05\n",
              "4       2013-01-15               0       25  ...           1.0  201301  1099.00\n",
              "...            ...             ...      ...  ...           ...     ...      ...\n",
              "2935844 2015-10-10              33       25  ...           1.0  201510   299.00\n",
              "2935845 2015-09-10              33       25  ...           1.0  201509   299.00\n",
              "2935846 2015-10-14              33       25  ...           1.0  201510   349.00\n",
              "2935847 2015-10-22              33       25  ...           1.0  201510   299.00\n",
              "2935848 2015-03-10              33       25  ...           1.0  201503   299.00\n",
              "\n",
              "[2935849 rows x 8 columns]"
            ]
          },
          "metadata": {
            "tags": []
          },
          "execution_count": 27
        }
      ]
    },
    {
      "cell_type": "code",
      "metadata": {
        "id": "8FiSmhZVwPQ4",
        "colab_type": "code",
        "colab": {
          "base_uri": "https://localhost:8080/",
          "height": 402
        },
        "outputId": "0ef33ac0-84ce-4511-dd68-ebd6b7844774"
      },
      "source": [
        ""
      ],
      "execution_count": 30,
      "outputs": [
        {
          "output_type": "execute_result",
          "data": {
            "text/html": [
              "<div>\n",
              "<style scoped>\n",
              "    .dataframe tbody tr th:only-of-type {\n",
              "        vertical-align: middle;\n",
              "    }\n",
              "\n",
              "    .dataframe tbody tr th {\n",
              "        vertical-align: top;\n",
              "    }\n",
              "\n",
              "    .dataframe thead th {\n",
              "        text-align: right;\n",
              "    }\n",
              "</style>\n",
              "<table border=\"1\" class=\"dataframe\">\n",
              "  <thead>\n",
              "    <tr style=\"text-align: right;\">\n",
              "      <th></th>\n",
              "      <th>item_name</th>\n",
              "      <th>item_id</th>\n",
              "      <th>item_category_id</th>\n",
              "    </tr>\n",
              "  </thead>\n",
              "  <tbody>\n",
              "    <tr>\n",
              "      <th>0</th>\n",
              "      <td>! ВО ВЛАСТИ НАВАЖДЕНИЯ (ПЛАСТ.)         D</td>\n",
              "      <td>0</td>\n",
              "      <td>40</td>\n",
              "    </tr>\n",
              "    <tr>\n",
              "      <th>1</th>\n",
              "      <td>!ABBYY FineReader 12 Professional Edition Full...</td>\n",
              "      <td>1</td>\n",
              "      <td>76</td>\n",
              "    </tr>\n",
              "    <tr>\n",
              "      <th>2</th>\n",
              "      <td>***В ЛУЧАХ СЛАВЫ   (UNV)                    D</td>\n",
              "      <td>2</td>\n",
              "      <td>40</td>\n",
              "    </tr>\n",
              "    <tr>\n",
              "      <th>3</th>\n",
              "      <td>***ГОЛУБАЯ ВОЛНА  (Univ)                      D</td>\n",
              "      <td>3</td>\n",
              "      <td>40</td>\n",
              "    </tr>\n",
              "    <tr>\n",
              "      <th>4</th>\n",
              "      <td>***КОРОБКА (СТЕКЛО)                       D</td>\n",
              "      <td>4</td>\n",
              "      <td>40</td>\n",
              "    </tr>\n",
              "    <tr>\n",
              "      <th>...</th>\n",
              "      <td>...</td>\n",
              "      <td>...</td>\n",
              "      <td>...</td>\n",
              "    </tr>\n",
              "    <tr>\n",
              "      <th>22165</th>\n",
              "      <td>Ядерный титбит 2 [PC, Цифровая версия]</td>\n",
              "      <td>22165</td>\n",
              "      <td>31</td>\n",
              "    </tr>\n",
              "    <tr>\n",
              "      <th>22166</th>\n",
              "      <td>Язык запросов 1С:Предприятия  [Цифровая версия]</td>\n",
              "      <td>22166</td>\n",
              "      <td>54</td>\n",
              "    </tr>\n",
              "    <tr>\n",
              "      <th>22167</th>\n",
              "      <td>Язык запросов 1С:Предприятия 8 (+CD). Хрустале...</td>\n",
              "      <td>22167</td>\n",
              "      <td>49</td>\n",
              "    </tr>\n",
              "    <tr>\n",
              "      <th>22168</th>\n",
              "      <td>Яйцо для Little Inu</td>\n",
              "      <td>22168</td>\n",
              "      <td>62</td>\n",
              "    </tr>\n",
              "    <tr>\n",
              "      <th>22169</th>\n",
              "      <td>Яйцо дракона (Игра престолов)</td>\n",
              "      <td>22169</td>\n",
              "      <td>69</td>\n",
              "    </tr>\n",
              "  </tbody>\n",
              "</table>\n",
              "<p>22170 rows × 3 columns</p>\n",
              "</div>"
            ],
            "text/plain": [
              "                                               item_name  ...  item_category_id\n",
              "0              ! ВО ВЛАСТИ НАВАЖДЕНИЯ (ПЛАСТ.)         D  ...                40\n",
              "1      !ABBYY FineReader 12 Professional Edition Full...  ...                76\n",
              "2          ***В ЛУЧАХ СЛАВЫ   (UNV)                    D  ...                40\n",
              "3        ***ГОЛУБАЯ ВОЛНА  (Univ)                      D  ...                40\n",
              "4            ***КОРОБКА (СТЕКЛО)                       D  ...                40\n",
              "...                                                  ...  ...               ...\n",
              "22165             Ядерный титбит 2 [PC, Цифровая версия]  ...                31\n",
              "22166    Язык запросов 1С:Предприятия  [Цифровая версия]  ...                54\n",
              "22167  Язык запросов 1С:Предприятия 8 (+CD). Хрустале...  ...                49\n",
              "22168                                Яйцо для Little Inu  ...                62\n",
              "22169                      Яйцо дракона (Игра престолов)  ...                69\n",
              "\n",
              "[22170 rows x 3 columns]"
            ]
          },
          "metadata": {
            "tags": []
          },
          "execution_count": 30
        }
      ]
    },
    {
      "cell_type": "code",
      "metadata": {
        "id": "EAkMcF99hxV5",
        "colab_type": "code",
        "colab": {}
      },
      "source": [
        "# YOUR CODE GOES HERE\n",
        "\n",
        "category_id_with_max_revenue = # PUT YOUR ANSWER IN THIS VARIABLE\n",
        "grader.submit_tag('category_id_with_max_revenue', category_id_with_max_revenue)"
      ],
      "execution_count": 0,
      "outputs": []
    },
    {
      "cell_type": "markdown",
      "metadata": {
        "id": "6dVhAKQ9hxV8",
        "colab_type": "text"
      },
      "source": [
        "<ol start=\"3\">\n",
        "  <li><b>How many items are there, such that their price stays constant (to the best of our knowledge) during the whole period of time?</b></li>\n",
        "</ol>\n",
        "\n",
        "* Let's assume, that the items are returned for the same price as they had been sold."
      ]
    },
    {
      "cell_type": "code",
      "metadata": {
        "id": "qS-it-A3hxV9",
        "colab_type": "code",
        "colab": {}
      },
      "source": [
        "# YOUR CODE GOES HERE\n",
        "\n",
        "num_items_constant_price = # PUT YOUR ANSWER IN THIS VARIABLE\n",
        "grader.submit_tag('num_items_constant_price', num_items_constant_price)"
      ],
      "execution_count": 0,
      "outputs": []
    },
    {
      "cell_type": "markdown",
      "metadata": {
        "id": "Bt-Ov3XRhxWA",
        "colab_type": "text"
      },
      "source": [
        "Remember, the data can sometimes be noisy."
      ]
    },
    {
      "cell_type": "markdown",
      "metadata": {
        "id": "1bmHr6-NhxWA",
        "colab_type": "text"
      },
      "source": [
        "<ol start=\"4\">\n",
        "  <li><b>What was the variance of the number of sold items per day sequence for the shop with `shop_id = 25` in December, 2014? Do not count the items, that were sold but returned back later.</b></li>\n",
        "</ol>\n",
        "\n",
        "* Fill `total_num_items_sold` and `days` arrays, and plot the sequence with the code below.\n",
        "* Then compute variance. Remember, there can be differences in how you normalize variance (biased or unbiased estimate, see [link](https://math.stackexchange.com/questions/496627/the-difference-between-unbiased-biased-estimator-variance)). Compute ***unbiased*** estimate (use the right value for `ddof` argument in `pd.var` or `np.var`). \n",
        "* If there were no sales at a given day, ***do not*** impute missing value with zero, just ignore that day"
      ]
    },
    {
      "cell_type": "code",
      "metadata": {
        "id": "X5O4sPvLhxWB",
        "colab_type": "code",
        "colab": {}
      },
      "source": [
        "shop_id = 25\n",
        "\n",
        "total_num_items_sold = # YOUR CODE GOES HERE\n",
        "days = # YOUR CODE GOES HERE\n",
        "\n",
        "# Plot it\n",
        "plt.plot(days, total_num_items_sold)\n",
        "plt.ylabel('Num items')\n",
        "plt.xlabel('Day')\n",
        "plt.title(\"Daily revenue for shop_id = 25\")\n",
        "plt.show()\n",
        "\n",
        "total_num_items_sold_var = # PUT YOUR ANSWER IN THIS VARIABLE\n",
        "grader.submit_tag('total_num_items_sold_var', total_num_items_sold_var)"
      ],
      "execution_count": 0,
      "outputs": []
    },
    {
      "cell_type": "markdown",
      "metadata": {
        "id": "0Q94kyPAhxWD",
        "colab_type": "text"
      },
      "source": [
        "## Authorization & Submission\n",
        "To submit assignment to Cousera platform, please, enter your e-mail and token into the variables below. You can generate token on the programming assignment page. *Note:* Token expires 30 minutes after generation."
      ]
    },
    {
      "cell_type": "code",
      "metadata": {
        "id": "VbURSLPyhxWD",
        "colab_type": "code",
        "colab": {}
      },
      "source": [
        "STUDENT_EMAIL = # EMAIL HERE\n",
        "STUDENT_TOKEN = # TOKEN HERE\n",
        "grader.status()"
      ],
      "execution_count": 0,
      "outputs": []
    },
    {
      "cell_type": "code",
      "metadata": {
        "id": "4CkPEyW9hxWG",
        "colab_type": "code",
        "colab": {}
      },
      "source": [
        "grader.submit(STUDENT_EMAIL, STUDENT_TOKEN)"
      ],
      "execution_count": 0,
      "outputs": []
    },
    {
      "cell_type": "markdown",
      "metadata": {
        "id": "4qoc1m_thxWI",
        "colab_type": "text"
      },
      "source": [
        "Well done! :)"
      ]
    }
  ]
}