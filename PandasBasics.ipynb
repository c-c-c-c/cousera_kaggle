{
  "nbformat": 4,
  "nbformat_minor": 0,
  "metadata": {
    "hw_version": "1.0.0",
    "kernelspec": {
      "display_name": "Python 3",
      "language": "python",
      "name": "python3"
    },
    "language_info": {
      "codemirror_mode": {
        "name": "ipython",
        "version": 3
      },
      "file_extension": ".py",
      "mimetype": "text/x-python",
      "name": "python",
      "nbconvert_exporter": "python",
      "pygments_lexer": "ipython3",
      "version": "3.6.2"
    },
    "colab": {
      "name": "PandasBasics.ipynb",
      "provenance": [],
      "include_colab_link": true
    }
  },
  "cells": [
    {
      "cell_type": "markdown",
      "metadata": {
        "id": "view-in-github",
        "colab_type": "text"
      },
      "source": [
        "<a href=\"https://colab.research.google.com/github/c-c-c-c/cousera_kaggle/blob/master/PandasBasics.ipynb\" target=\"_parent\"><img src=\"https://colab.research.google.com/assets/colab-badge.svg\" alt=\"Open In Colab\"/></a>"
      ]
    },
    {
      "cell_type": "markdown",
      "metadata": {
        "id": "66pdcV7fhxVc",
        "colab_type": "text"
      },
      "source": [
        "Version 1.0.2"
      ]
    },
    {
      "cell_type": "markdown",
      "metadata": {
        "id": "caDpJo-thxVd",
        "colab_type": "text"
      },
      "source": [
        "# Pandas basics "
      ]
    },
    {
      "cell_type": "markdown",
      "metadata": {
        "id": "ER8HB1yehxVe",
        "colab_type": "text"
      },
      "source": [
        "Hi! In this programming assignment you need to refresh your `pandas` knowledge. You will need to do several [`groupby`](https://pandas.pydata.org/pandas-docs/stable/generated/pandas.DataFrame.groupby.html)s and [`join`]()`s to solve the task. "
      ]
    },
    {
      "cell_type": "code",
      "metadata": {
        "id": "_6mupBXChxVe",
        "colab_type": "code",
        "colab": {
          "base_uri": "https://localhost:8080/",
          "height": 342
        },
        "outputId": "755a40ab-4a7e-438f-a457-6a1b14197e73"
      },
      "source": [
        "import pandas as pd\n",
        "import numpy as np\n",
        "import os\n",
        "import matplotlib.pyplot as plt\n",
        "%matplotlib inline \n",
        "\n",
        "from grader import Grader"
      ],
      "execution_count": 2,
      "outputs": [
        {
          "output_type": "error",
          "ename": "ModuleNotFoundError",
          "evalue": "ignored",
          "traceback": [
            "\u001b[0;31m---------------------------------------------------------------------------\u001b[0m",
            "\u001b[0;31mModuleNotFoundError\u001b[0m                       Traceback (most recent call last)",
            "\u001b[0;32m<ipython-input-2-e6dfbf0291a9>\u001b[0m in \u001b[0;36m<module>\u001b[0;34m()\u001b[0m\n\u001b[1;32m      5\u001b[0m \u001b[0mget_ipython\u001b[0m\u001b[0;34m(\u001b[0m\u001b[0;34m)\u001b[0m\u001b[0;34m.\u001b[0m\u001b[0mmagic\u001b[0m\u001b[0;34m(\u001b[0m\u001b[0;34m'matplotlib inline'\u001b[0m\u001b[0;34m)\u001b[0m\u001b[0;34m\u001b[0m\u001b[0;34m\u001b[0m\u001b[0m\n\u001b[1;32m      6\u001b[0m \u001b[0;34m\u001b[0m\u001b[0m\n\u001b[0;32m----> 7\u001b[0;31m \u001b[0;32mfrom\u001b[0m \u001b[0mgrader\u001b[0m \u001b[0;32mimport\u001b[0m \u001b[0mGrader\u001b[0m\u001b[0;34m\u001b[0m\u001b[0;34m\u001b[0m\u001b[0m\n\u001b[0m",
            "\u001b[0;31mModuleNotFoundError\u001b[0m: No module named 'grader'",
            "",
            "\u001b[0;31m---------------------------------------------------------------------------\u001b[0;32m\nNOTE: If your import is failing due to a missing package, you can\nmanually install dependencies using either !pip or !apt.\n\nTo view examples of installing some common dependencies, click the\n\"Open Examples\" button below.\n\u001b[0;31m---------------------------------------------------------------------------\u001b[0m\n"
          ]
        }
      ]
    },
    {
      "cell_type": "code",
      "metadata": {
        "id": "mPzJBQR4nCS0",
        "colab_type": "code",
        "colab": {
          "base_uri": "https://localhost:8080/",
          "height": 35
        },
        "outputId": "45391b94-a263-4693-984d-b3f01fd99635"
      },
      "source": [
        "!pwd"
      ],
      "execution_count": 9,
      "outputs": [
        {
          "output_type": "stream",
          "text": [
            "/content\n"
          ],
          "name": "stdout"
        }
      ]
    },
    {
      "cell_type": "code",
      "metadata": {
        "id": "ZL0WEhbhnMaL",
        "colab_type": "code",
        "colab": {
          "base_uri": "https://localhost:8080/",
          "height": 52
        },
        "outputId": "d545e7dc-d458-4869-e187-e91e3fe30d08"
      },
      "source": [
        "ls  ./drive/My\\ Drive/Colab\\ Notebooks/cousera/how_to_win_kaggle/data/competitive-data-science-predict-future-sales/"
      ],
      "execution_count": 14,
      "outputs": [
        {
          "output_type": "stream",
          "text": [
            "item_categories.csv  sales_train.csv        shops.csv\n",
            "items.csv            sample_submission.csv  test.csv\n"
          ],
          "name": "stdout"
        }
      ]
    },
    {
      "cell_type": "code",
      "metadata": {
        "id": "BpQMIkJUh7qS",
        "colab_type": "code",
        "colab": {
          "base_uri": "https://localhost:8080/",
          "height": 35
        },
        "outputId": "6900394e-e056-466b-b5da-33d02a0155a9"
      },
      "source": [
        "from google.colab import drive\n",
        "drive.mount('/content/drive')"
      ],
      "execution_count": 4,
      "outputs": [
        {
          "output_type": "stream",
          "text": [
            "Drive already mounted at /content/drive; to attempt to forcibly remount, call drive.mount(\"/content/drive\", force_remount=True).\n"
          ],
          "name": "stdout"
        }
      ]
    },
    {
      "cell_type": "code",
      "metadata": {
        "id": "BxuMWSA1hxVi",
        "colab_type": "code",
        "colab": {}
      },
      "source": [
        "# DATA_FOLDER = '../data/final_project_data/'\n",
        "DATA_FOLDER = '/content/drive/My Drive/Colab Notebooks/cousera/how_to_win_kaggle/data/competitive-data-science-predict-future-sales/'\n",
        "\n",
        "\n",
        "transactions    = pd.read_csv(os.path.join(DATA_FOLDER, 'sales_train.csv'))\n",
        "items           = pd.read_csv(os.path.join(DATA_FOLDER, 'items.csv'))\n",
        "item_categories = pd.read_csv(os.path.join(DATA_FOLDER, 'item_categories.csv'))\n",
        "shops           = pd.read_csv(os.path.join(DATA_FOLDER, 'shops.csv'))"
      ],
      "execution_count": 0,
      "outputs": []
    },
    {
      "cell_type": "markdown",
      "metadata": {
        "id": "0QRAXAD5hxVl",
        "colab_type": "text"
      },
      "source": [
        "The dataset we are going to use is taken from the competition, that serves as the final project for this course. You can find complete data description at the [competition web page](https://www.kaggle.com/c/competitive-data-science-final-project/data). To join the competition use [this link](https://www.kaggle.com/t/1ea93815dca248e99221df42ebde3540)."
      ]
    },
    {
      "cell_type": "markdown",
      "metadata": {
        "id": "nIkx__-ehxVl",
        "colab_type": "text"
      },
      "source": [
        "## Grading"
      ]
    },
    {
      "cell_type": "markdown",
      "metadata": {
        "id": "vcxS8SPhhxVm",
        "colab_type": "text"
      },
      "source": [
        "We will create a grader instace below and use it to collect your answers. When function `submit_tag` is called, grader will store your answer *locally*. The answers will *not* be submited to the platform immediately so you can call `submit_tag` function as many times as you need. \n",
        "\n",
        "When you are ready to push your answers to the platform you should fill your credentials and run `submit` function in the <a href=\"#Authorization-&-Submission\">last paragraph</a>  of the assignment."
      ]
    },
    {
      "cell_type": "code",
      "metadata": {
        "id": "DoCT0XHEhxVn",
        "colab_type": "code",
        "colab": {}
      },
      "source": [
        "grader = Grader()"
      ],
      "execution_count": 0,
      "outputs": []
    },
    {
      "cell_type": "markdown",
      "metadata": {
        "id": "6NSyloMXhxVp",
        "colab_type": "text"
      },
      "source": [
        "# Task\n"
      ]
    },
    {
      "cell_type": "markdown",
      "metadata": {
        "id": "rCHyCJCXhxVq",
        "colab_type": "text"
      },
      "source": [
        "Let's start with a simple task. \n",
        "\n",
        "\n",
        "<ol start=\"0\">\n",
        "  <li><b>Print the shape of the loaded dataframes and use [`df.head`](https://pandas.pydata.org/pandas-docs/stable/generated/pandas.DataFrame.head.html) function to print several rows. Examine the features you are given.</b></li>\n",
        "</ol>"
      ]
    },
    {
      "cell_type": "code",
      "metadata": {
        "id": "GfpARWIShxVq",
        "colab_type": "code",
        "colab": {
          "base_uri": "https://localhost:8080/",
          "height": 69
        },
        "outputId": "0b5afa13-7282-4871-e038-6aa87bf96ea6"
      },
      "source": [
        "transactions.columns"
      ],
      "execution_count": 27,
      "outputs": [
        {
          "output_type": "execute_result",
          "data": {
            "text/plain": [
              "Index(['date', 'date_block_num', 'shop_id', 'item_id', 'item_price',\n",
              "       'item_cnt_day'],\n",
              "      dtype='object')"
            ]
          },
          "metadata": {
            "tags": []
          },
          "execution_count": 27
        }
      ]
    },
    {
      "cell_type": "code",
      "metadata": {
        "id": "iew4PvjL198x",
        "colab_type": "code",
        "colab": {}
      },
      "source": [
        ""
      ],
      "execution_count": 0,
      "outputs": []
    },
    {
      "cell_type": "code",
      "metadata": {
        "id": "AYRadLCUhxVu",
        "colab_type": "code",
        "colab": {}
      },
      "source": [
        "transactions['date'] = pd.to_datetime(transactions['date'])\n"
      ],
      "execution_count": 0,
      "outputs": []
    },
    {
      "cell_type": "code",
      "metadata": {
        "id": "D6IwcL9o3RAR",
        "colab_type": "code",
        "colab": {
          "base_uri": "https://localhost:8080/",
          "height": 225
        },
        "outputId": "18a7c15f-c020-4ff1-fbe3-22e01e730f3f"
      },
      "source": [
        "transactions.date"
      ],
      "execution_count": 31,
      "outputs": [
        {
          "output_type": "execute_result",
          "data": {
            "text/plain": [
              "0         2013-02-01\n",
              "1         2013-03-01\n",
              "2         2013-05-01\n",
              "3         2013-06-01\n",
              "4         2013-01-15\n",
              "             ...    \n",
              "2935844   2015-10-10\n",
              "2935845   2015-09-10\n",
              "2935846   2015-10-14\n",
              "2935847   2015-10-22\n",
              "2935848   2015-03-10\n",
              "Name: date, Length: 2935849, dtype: datetime64[ns]"
            ]
          },
          "metadata": {
            "tags": []
          },
          "execution_count": 31
        }
      ]
    },
    {
      "cell_type": "markdown",
      "metadata": {
        "id": "WT9-Vb7chxVz",
        "colab_type": "text"
      },
      "source": [
        "Now use your `pandas` skills to get answers for the following questions. \n",
        "The first question is:\n",
        "\n",
        "1. ** What was the maximum total revenue among all the shops in September, 2014?** \n",
        "\n",
        "\n",
        "* Hereinafter *revenue* refers to total sales minus value of goods returned.\n",
        "\n",
        "*Hints:*\n",
        "\n",
        "* Sometimes items are returned, find such examples in the dataset. \n",
        "* It is handy to split `date` field into [`day`, `month`, `year`] components and use `df.year == 14` and `df.month == 9` in order to select target subset of dates.\n",
        "* You may work with `date` feature as with srings, or you may first convert it to `pd.datetime` type with `pd.to_datetime` function, but do not forget to set correct `format` argument."
      ]
    },
    {
      "cell_type": "code",
      "metadata": {
        "id": "eF2_G3ZKhxV0",
        "colab_type": "code",
        "colab": {}
      },
      "source": [
        ""
      ],
      "execution_count": 0,
      "outputs": []
    },
    {
      "cell_type": "code",
      "metadata": {
        "id": "p2lozcMxhxV2",
        "colab_type": "code",
        "colab": {}
      },
      "source": [
        "# YOUR CODE GOES HERE\n",
        "\n",
        "max_revenue = # PUT YOUR ANSWER IN THIS VARIABLE\n",
        "grader.submit_tag('max_revenue', max_revenue)"
      ],
      "execution_count": 0,
      "outputs": []
    },
    {
      "cell_type": "markdown",
      "metadata": {
        "id": "CN4w5mYahxV5",
        "colab_type": "text"
      },
      "source": [
        "Great! Let's move on and answer another question:\n",
        "\n",
        "<ol start=\"2\">\n",
        "  <li><b>What item category generated the highest revenue in summer 2014?</b></li>\n",
        "</ol>\n",
        "\n",
        "* Submit `id` of the category found.\n",
        "    \n",
        "* Here we call \"summer\" the period from June to August.\n",
        "\n",
        "*Hints:*\n",
        "\n",
        "* Note, that for an object `x` of type `pd.Series`: `x.argmax()` returns **index** of the maximum element. `pd.Series` can have non-trivial index (not `[1, 2, 3, ... ]`)."
      ]
    },
    {
      "cell_type": "code",
      "metadata": {
        "id": "EAkMcF99hxV5",
        "colab_type": "code",
        "colab": {}
      },
      "source": [
        "# YOUR CODE GOES HERE\n",
        "\n",
        "category_id_with_max_revenue = # PUT YOUR ANSWER IN THIS VARIABLE\n",
        "grader.submit_tag('category_id_with_max_revenue', category_id_with_max_revenue)"
      ],
      "execution_count": 0,
      "outputs": []
    },
    {
      "cell_type": "markdown",
      "metadata": {
        "id": "6dVhAKQ9hxV8",
        "colab_type": "text"
      },
      "source": [
        "<ol start=\"3\">\n",
        "  <li><b>How many items are there, such that their price stays constant (to the best of our knowledge) during the whole period of time?</b></li>\n",
        "</ol>\n",
        "\n",
        "* Let's assume, that the items are returned for the same price as they had been sold."
      ]
    },
    {
      "cell_type": "code",
      "metadata": {
        "id": "qS-it-A3hxV9",
        "colab_type": "code",
        "colab": {}
      },
      "source": [
        "# YOUR CODE GOES HERE\n",
        "\n",
        "num_items_constant_price = # PUT YOUR ANSWER IN THIS VARIABLE\n",
        "grader.submit_tag('num_items_constant_price', num_items_constant_price)"
      ],
      "execution_count": 0,
      "outputs": []
    },
    {
      "cell_type": "markdown",
      "metadata": {
        "id": "Bt-Ov3XRhxWA",
        "colab_type": "text"
      },
      "source": [
        "Remember, the data can sometimes be noisy."
      ]
    },
    {
      "cell_type": "markdown",
      "metadata": {
        "id": "1bmHr6-NhxWA",
        "colab_type": "text"
      },
      "source": [
        "<ol start=\"4\">\n",
        "  <li><b>What was the variance of the number of sold items per day sequence for the shop with `shop_id = 25` in December, 2014? Do not count the items, that were sold but returned back later.</b></li>\n",
        "</ol>\n",
        "\n",
        "* Fill `total_num_items_sold` and `days` arrays, and plot the sequence with the code below.\n",
        "* Then compute variance. Remember, there can be differences in how you normalize variance (biased or unbiased estimate, see [link](https://math.stackexchange.com/questions/496627/the-difference-between-unbiased-biased-estimator-variance)). Compute ***unbiased*** estimate (use the right value for `ddof` argument in `pd.var` or `np.var`). \n",
        "* If there were no sales at a given day, ***do not*** impute missing value with zero, just ignore that day"
      ]
    },
    {
      "cell_type": "code",
      "metadata": {
        "id": "X5O4sPvLhxWB",
        "colab_type": "code",
        "colab": {}
      },
      "source": [
        "shop_id = 25\n",
        "\n",
        "total_num_items_sold = # YOUR CODE GOES HERE\n",
        "days = # YOUR CODE GOES HERE\n",
        "\n",
        "# Plot it\n",
        "plt.plot(days, total_num_items_sold)\n",
        "plt.ylabel('Num items')\n",
        "plt.xlabel('Day')\n",
        "plt.title(\"Daily revenue for shop_id = 25\")\n",
        "plt.show()\n",
        "\n",
        "total_num_items_sold_var = # PUT YOUR ANSWER IN THIS VARIABLE\n",
        "grader.submit_tag('total_num_items_sold_var', total_num_items_sold_var)"
      ],
      "execution_count": 0,
      "outputs": []
    },
    {
      "cell_type": "markdown",
      "metadata": {
        "id": "0Q94kyPAhxWD",
        "colab_type": "text"
      },
      "source": [
        "## Authorization & Submission\n",
        "To submit assignment to Cousera platform, please, enter your e-mail and token into the variables below. You can generate token on the programming assignment page. *Note:* Token expires 30 minutes after generation."
      ]
    },
    {
      "cell_type": "code",
      "metadata": {
        "id": "VbURSLPyhxWD",
        "colab_type": "code",
        "colab": {}
      },
      "source": [
        "STUDENT_EMAIL = # EMAIL HERE\n",
        "STUDENT_TOKEN = # TOKEN HERE\n",
        "grader.status()"
      ],
      "execution_count": 0,
      "outputs": []
    },
    {
      "cell_type": "code",
      "metadata": {
        "id": "4CkPEyW9hxWG",
        "colab_type": "code",
        "colab": {}
      },
      "source": [
        "grader.submit(STUDENT_EMAIL, STUDENT_TOKEN)"
      ],
      "execution_count": 0,
      "outputs": []
    },
    {
      "cell_type": "markdown",
      "metadata": {
        "id": "4qoc1m_thxWI",
        "colab_type": "text"
      },
      "source": [
        "Well done! :)"
      ]
    }
  ]
}